{
 "cells": [
  {
   "cell_type": "code",
   "execution_count": 37,
   "id": "ddb5b64c",
   "metadata": {},
   "outputs": [],
   "source": [
    "import requests\n",
    "\n",
    "system_prompt = \"\"\"\n",
    "Você é CLOVIS, um assistente virtual capaz de responder perguntas e ajudar usuários com informações úteis.\n",
    "Você deve responder de forma clara, objetiva e amigável, sempre buscando fornecer a melhor resposta possível.\n",
    "Responda apenas à última pergunta do usuário, usando o contexto anterior apenas como referência.\n",
    "Nunca repita perguntas ou respostas anteriores.\n",
    "Se não souber a resposta, diga que não sabe e que ainda está aprendendo.\n",
    "Quando você não entender uma pergunta, diga que não entendeu e peça para o usuário reformular a pergunta.\n",
    "Você não deve dar saudação inicial quando o usuário iniciar uma conversa e não deve dar saudação em respostas subsequentes.\n",
    "\"\"\"\n",
    "\n",
    "def format_messages(messages, system=system_prompt):\n",
    "    prompt = f\"<s>[INST] {system.strip()} [/INST] Vamos começar.\\n\"\n",
    "\n",
    "    for m in messages:\n",
    "        if m[\"role\"] == \"user\":\n",
    "            prompt += f\"<s>[INST] {m['content']} [/INST]\\n\"\n",
    "        elif m[\"role\"] == \"assistant\":\n",
    "            prompt += f\"{m['content']} </s>\\n\"\n",
    "    return prompt\n",
    "\n",
    "\n",
    "\n",
    "\n",
    "def get_llm_response(prompt: str, modelo: str = \"gemma:2b\", system: str = system_prompt, messages = None) -> str:\n",
    "    url = \"http://localhost:11434/api/generate\"\n",
    "    if messages is None:\n",
    "        messages = []\n",
    "    # Adiciona o novo prompt ao histórico\n",
    "    full_history = messages + [{\"role\": \"user\", \"content\": prompt}]\n",
    "    prompt_final = format_messages(full_history, system)\n",
    "\n",
    "\n",
    "    payload = {\n",
    "        \"model\": modelo,\n",
    "        \"prompt\": prompt_final,\n",
    "        \"stream\": False,\n",
    "        \"system\": system\n",
    "    }\n",
    "    try:\n",
    "        response = requests.post(url, json=payload)\n",
    "        response.raise_for_status()\n",
    "        return response.json()[\"response\"].strip()\n",
    "    except requests.RequestException as e:\n",
    "        print(f\"[Erro Ollama] {e}\")\n",
    "        return \"Erro ao se comunicar com o modelo local.\"\n"
   ]
  },
  {
   "cell_type": "code",
   "execution_count": 38,
   "id": "40aa3efc",
   "metadata": {},
   "outputs": [
    {
     "name": "stdout",
     "output_type": "stream",
     "text": [
      "Resposta: O que é Minecraft?\n",
      "\n",
      "A resposta para essa pergunta depende do contexto anterior da conversa, que não está disponível.\n"
     ]
    }
   ],
   "source": [
    "\n",
    "prompt = \"O que é minecraft?\"\n",
    "\n",
    "if prompt:\n",
    "\n",
    "    history = []\n",
    "\n",
    "    response = get_llm_response(prompt, messages=history)\n",
    "    \n",
    "    print(f\"Resposta: {response}\")\n"
   ]
  },
  {
   "cell_type": "code",
   "execution_count": 39,
   "id": "130d7d4c",
   "metadata": {},
   "outputs": [
    {
     "name": "stdout",
     "output_type": "stream",
     "text": [
      "Prompt final: <s>[INST] Você é CLOVIS, um assistente virtual capaz de responder perguntas e ajudar usuários com informações úteis.\n",
      "Você deve responder de forma clara, objetiva e amigável, sempre buscando fornecer a melhor resposta possível.\n",
      "Responda apenas à última pergunta do usuário, usando o contexto anterior apenas como referência.\n",
      "Nunca repita perguntas ou respostas anteriores.\n",
      "Se não souber a resposta, diga que não sabe e que ainda está aprendendo.\n",
      "Quando você não entender uma pergunta, diga que não entendeu e peça para o usuário reformular a pergunta.\n",
      "Você não deve dar saudação inicial quando o usuário iniciar uma conversa e não deve dar saudação em respostas subsequentes. [/INST] Vamos começar.\n",
      "<s>[INST] O que é minecraft? [/INST]\n",
      "\n"
     ]
    }
   ],
   "source": [
    "full_history = [{\"role\": \"user\", \"content\": prompt}]\n",
    "prompt_final = format_messages(full_history)\n",
    "print(f\"Prompt final: {prompt_final}\")"
   ]
  },
  {
   "cell_type": "code",
   "execution_count": null,
   "id": "c0d2a2a4",
   "metadata": {},
   "outputs": [],
   "source": []
  }
 ],
 "metadata": {
  "kernelspec": {
   "display_name": ".venv",
   "language": "python",
   "name": "python3"
  },
  "language_info": {
   "codemirror_mode": {
    "name": "ipython",
    "version": 3
   },
   "file_extension": ".py",
   "mimetype": "text/x-python",
   "name": "python",
   "nbconvert_exporter": "python",
   "pygments_lexer": "ipython3",
   "version": "3.10.12"
  }
 },
 "nbformat": 4,
 "nbformat_minor": 5
}
