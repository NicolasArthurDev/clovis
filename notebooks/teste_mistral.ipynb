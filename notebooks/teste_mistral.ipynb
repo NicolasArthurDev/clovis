{
 "cells": [
  {
   "cell_type": "code",
   "execution_count": null,
   "id": "3e1063be",
   "metadata": {},
   "outputs": [],
   "source": [
    "import requests\n",
    "\n",
    "def format_messages(messages, modelo=\"mistral\"):\n",
    "    formatted = \"\"\n",
    "    for m in messages:\n",
    "        role = \"user\" if m[\"role\"] == \"user\" else \"assistant\" if m[\"role\"] == \"assistant\" else \"system\"\n",
    "        formatted += f\"{role}: {m['content'].strip()}\\n\"\n",
    "    formatted += \"assistant:\"\n",
    "    return formatted.strip()\n",
    "\n",
    "def get_llm_response(prompt: str, system_prompt: str, modelo: str = \"mistral\", messages=None) -> str:\n",
    "    url = \"http://localhost:11434/api/generate\"\n",
    "    if messages is None or len(messages) == 0 or messages[0][\"role\"] != \"system\":\n",
    "        messages = [{\"role\": \"system\", \"content\": system_prompt}] + (messages or [])\n",
    "    # NÃO adicione o prompt do usuário aqui!\n",
    "    prompt_final = format_messages(messages)\n",
    "    print(prompt_final)\n",
    "    payload = {\n",
    "        \"model\": modelo,\n",
    "        \"prompt\": prompt_final,\n",
    "        \"stream\": False\n",
    "    }\n",
    "    try:\n",
    "        response = requests.post(url, json=payload)\n",
    "        response.raise_for_status()\n",
    "        return response.json()[\"response\"].strip()\n",
    "    except requests.RequestException as e:\n",
    "        print(f\"[Erro Ollama] {e}\")\n",
    "        return \"Erro ao se comunicar com o modelo local.\"\n",
    "\n"
   ]
  },
  {
   "cell_type": "code",
   "execution_count": null,
   "id": "edb467bc",
   "metadata": {},
   "outputs": [
    {
     "name": "stdout",
     "output_type": "stream",
     "text": [
      "system: Você é Clovis, um assistente virtual educado e objetivo. Responda apenas à última pergunta do usuário.\n",
      "user: O que é Minecraft?\n",
      "assistant:\n",
      "Resposta: Minecraft é um jogo eletrônico de ação-aventura desenvolvido pela Mojang Studios, sendo considerado um dos mais populares jogos em todo o mundo. É caracterizado por sua mecânica de construção e sobrevivência em um mundo gerado aleatoriamente, composto por blocos.\n",
      "system: Você é Clovis, um assistente virtual educado e objetivo. Responda apenas à última pergunta do usuário.\n",
      "user: O que é Minecraft?\n",
      "assistant: Minecraft é um jogo eletrônico de ação-aventura desenvolvido pela Mojang Studios, sendo considerado um dos mais populares jogos em todo o mundo. É caracterizado por sua mecânica de construção e sobrevivência em um mundo gerado aleatoriamente, composto por blocos.\n",
      "user: Você gosta desse jogo?\n",
      "assistant:\n",
      "Sim, eu acho que é muito divertido jogar Minecraft! Ele é um jogo incrível para crianças e adultos que querem construir coisas, explorar o mundo ou até mesmo enfrentar desafios para sobreviver em um mundo de blocos.\n"
     ]
    }
   ],
   "source": [
    "# Inicializa o histórico apenas uma vez\n",
    "system_prompt = \"Você é Clovis, um assistente virtual educado e objetivo. Responda apenas à última pergunta do usuário.\"\n",
    "history = [{\"role\": \"system\", \"content\": system_prompt}]\n",
    "\n",
    "# Primeira pergunta\n",
    "prompt = \"O que é Minecraft?\"\n",
    "response = get_llm_response(prompt, system_prompt, messages=history)\n",
    "print(\"Resposta:\", response)\n",
    "\n",
    "# Adiciona ao histórico (NÃO adicione o system_prompt novamente!)\n",
    "history.append({\"role\": \"user\", \"content\": prompt})\n",
    "history.append({\"role\": \"assistant\", \"content\": response})\n",
    "\n",
    "# Segunda pergunta\n",
    "prompt = \"Você gosta desse jogo?\"\n",
    "response = get_llm_response(prompt, system_prompt, messages=history)\n",
    "print(\"Resposta:\", response)\n",
    "\n",
    "# Adiciona ao histórico\n",
    "history.append({\"role\": \"user\", \"content\": prompt})\n",
    "history.append({\"role\": \"assistant\", \"content\": response})"
   ]
  },
  {
   "cell_type": "code",
   "execution_count": null,
   "id": "3a39193b",
   "metadata": {},
   "outputs": [],
   "source": []
  }
 ],
 "metadata": {
  "kernelspec": {
   "display_name": ".venv",
   "language": "python",
   "name": "python3"
  },
  "language_info": {
   "codemirror_mode": {
    "name": "ipython",
    "version": 3
   },
   "file_extension": ".py",
   "mimetype": "text/x-python",
   "name": "python",
   "nbconvert_exporter": "python",
   "pygments_lexer": "ipython3",
   "version": "3.10.12"
  }
 },
 "nbformat": 4,
 "nbformat_minor": 5
}
